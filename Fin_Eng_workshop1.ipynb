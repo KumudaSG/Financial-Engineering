{
  "nbformat": 4,
  "nbformat_minor": 0,
  "metadata": {
    "colab": {
      "provenance": [],
      "authorship_tag": "ABX9TyO+vgAvowrDNpXooNU1iII9",
      "include_colab_link": true
    },
    "kernelspec": {
      "name": "python3",
      "display_name": "Python 3"
    },
    "language_info": {
      "name": "python"
    }
  },
  "cells": [
    {
      "cell_type": "markdown",
      "metadata": {
        "id": "view-in-github",
        "colab_type": "text"
      },
      "source": [
        "<a href=\"https://colab.research.google.com/github/KumudaSG/Financial-Engineering/blob/main/Fin_Eng_workshop1.ipynb\" target=\"_parent\"><img src=\"https://colab.research.google.com/assets/colab-badge.svg\" alt=\"Open In Colab\"/></a>"
      ]
    },
    {
      "cell_type": "markdown",
      "source": [
        "Time value of money:\n",
        "Understanding TVM is imp for pricing financial products including options.\n",
        "\n",
        "Present value based on future value: PV = FVe^(-rt)\n",
        "\n",
        "Call option: Financial contract giving the right but not the obligation to buy an asset at a predetermined price.\n",
        "Put Option: Right but not obligation to sell an asset at a predetermined price.\n",
        "\n",
        "A hedge is a financial strategy that reduces the risk of loss. It can involve buying or selling assets, or entering into contracts to buy or sell commodities at a set price.\n",
        "\n",
        "Exercise types:\n",
        "1. European: Only exercise at maturity\n",
        "2. American:\n",
        "3. Bermudian:\n",
        "\n",
        "Payoff types:\n",
        "1. Vanilla:\n",
        "2. Digital:\n",
        "3. Asian:\n",
        "\n",
        "S = underlying price\n",
        "K = strike price\n",
        "T = time to maturity"
      ],
      "metadata": {
        "id": "0coXISAVasZ7"
      }
    },
    {
      "cell_type": "code",
      "source": [],
      "metadata": {
        "id": "9fOtDjY5d2P4"
      },
      "execution_count": null,
      "outputs": []
    },
    {
      "cell_type": "markdown",
      "source": [
        "Moneyness:\n"
      ],
      "metadata": {
        "id": "uPQNTqJyd2q0"
      }
    }
  ]
}