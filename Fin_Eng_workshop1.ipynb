{
  "nbformat": 4,
  "nbformat_minor": 0,
  "metadata": {
    "colab": {
      "provenance": [],
      "authorship_tag": "ABX9TyNjdPRBF8tfKvlcyYR9e7LC",
      "include_colab_link": true
    },
    "kernelspec": {
      "name": "python3",
      "display_name": "Python 3"
    },
    "language_info": {
      "name": "python"
    }
  },
  "cells": [
    {
      "cell_type": "markdown",
      "metadata": {
        "id": "view-in-github",
        "colab_type": "text"
      },
      "source": [
        "<a href=\"https://colab.research.google.com/github/KumudaSG/Financial-Engineering/blob/main/Fin_Eng_workshop1.ipynb\" target=\"_parent\"><img src=\"https://colab.research.google.com/assets/colab-badge.svg\" alt=\"Open In Colab\"/></a>"
      ]
    },
    {
      "cell_type": "markdown",
      "source": [
        "Topics we explore today:\n",
        "1. Time value of money\n",
        "2. Options\n",
        "3. Profit diagrams, payoff\n",
        "4. Intrinsic value\n",
        "5. Extrinsic value\n",
        "6. Binomial pricing model\n",
        "7. Black sholes merton model\n",
        ""
      ],
      "metadata": {
        "id": "ELY_G8x6ewzh"
      }
    },
    {
      "cell_type": "markdown",
      "source": [
        "Time value of money:\n",
        "Understanding TVM is imp for pricing financial products including options.\n",
        "\n",
        "Present value based on future value: PV = FVe^(-rt)\n",
        "\n",
        "Call option: Financial contract giving the right but not the obligation to buy an asset at a predetermined price.\n",
        "Put Option: Right but not obligation to sell an asset at a predetermined price.\n",
        "\n",
        "A hedge is a financial strategy that reduces the risk of loss. It can involve buying or selling assets, or entering into contracts to buy or sell commodities at a set price.\n",
        "\n",
        "Exercise types:\n",
        "1. European: Only exercise at maturity\n",
        "2. American:\n",
        "3. Bermudian:\n",
        "\n",
        "Payoff types:\n",
        "1. Vanilla:\n",
        "2. Digital:\n",
        "3. Asian:\n",
        "\n",
        "S = underlying price\n",
        "K = strike price\n",
        "T = time to maturity"
      ],
      "metadata": {
        "id": "0coXISAVasZ7"
      }
    },
    {
      "cell_type": "code",
      "source": [],
      "metadata": {
        "id": "3tA1SpLYeul1"
      },
      "execution_count": null,
      "outputs": []
    },
    {
      "cell_type": "code",
      "source": [
        "#Black Sholes Merton Model\n",
        "'''Variables:\n",
        "S: initial stock price\n",
        "K: Strike price\n",
        "T: time to maturity\n",
        "'''"
      ],
      "metadata": {
        "id": "9fOtDjY5d2P4"
      },
      "execution_count": null,
      "outputs": []
    },
    {
      "cell_type": "code",
      "source": [
        "import numpy as np\n",
        "#import scipy.stats as sp\n",
        "import pandas as pd\n",
        "from scipy.stats import norm\n",
        "from google.colab import files"
      ],
      "metadata": {
        "id": "KpAvLKzGja4D"
      },
      "execution_count": null,
      "outputs": []
    },
    {
      "cell_type": "code",
      "source": [
        "def Black_call(S0,K,T,r,sigma,q):\n",
        "  d1 = (np.log(S0/K)+(r-q+0.5*sigma**2)*T)/(sigma*np.sqrt(T))\n",
        "  d2 = (np.log(S0/K)+(r-q-0.5*sigma**2)*T)/(sigma*np.sqrt(T)) #only one minus sign difference.\n",
        "  call_price = S0*np.exp(-q*T)*norm.cdf(d1) - K*np.exp(-r*T)* norm.cdf(d2)\n",
        "  return call_price"
      ],
      "metadata": {
        "id": "6GiKEJqKjs7K"
      },
      "execution_count": null,
      "outputs": []
    },
    {
      "cell_type": "code",
      "source": [
        "def Black_put(S0,K,T,r,sigma,q):\n",
        "  d1 = (np.log(S0/K)+(r-q+0.5*sigma**2)*T)/(sigma*np.sqrt(T))\n",
        "  d2 = (np.log(S0/K)+(r-q-0.5*sigma**2)*T)/(sigma*np.sqrt(T)) #only one minus sign difference.\n",
        "  put_price = K*np.exp(-r*T)* norm.cdf(d2)- S0*np.exp(-q*T)*norm.cdf(d1)\n",
        "  return call_price"
      ],
      "metadata": {
        "id": "07uMt6cQknc9"
      },
      "execution_count": null,
      "outputs": []
    }
  ]
}