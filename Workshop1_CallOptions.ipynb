{
  "nbformat": 4,
  "nbformat_minor": 0,
  "metadata": {
    "colab": {
      "provenance": [],
      "authorship_tag": "ABX9TyNydy5pFhDdW52dwJqUoHsz",
      "include_colab_link": true
    },
    "kernelspec": {
      "name": "python3",
      "display_name": "Python 3"
    },
    "language_info": {
      "name": "python"
    }
  },
  "cells": [
    {
      "cell_type": "markdown",
      "metadata": {
        "id": "view-in-github",
        "colab_type": "text"
      },
      "source": [
        "<a href=\"https://colab.research.google.com/github/KumudaSG/Financial-Engineering/blob/main/Workshop1_CallOptions.ipynb\" target=\"_parent\"><img src=\"https://colab.research.google.com/assets/colab-badge.svg\" alt=\"Open In Colab\"/></a>"
      ]
    },
    {
      "cell_type": "markdown",
      "source": [
        "Topics we explore today:\n",
        "1. Time value of money\n",
        "2. Options\n",
        "3. Profit diagrams, payoff\n",
        "4. Intrinsic value\n",
        "5. Extrinsic value\n",
        "6. Binomial pricing model\n",
        "7. Black sholes merton model\n",
        ""
      ],
      "metadata": {
        "id": "ELY_G8x6ewzh"
      }
    },
    {
      "cell_type": "markdown",
      "source": [
        "Time value of money:\n",
        "Understanding TVM is imp for pricing financial products including options.\n",
        "\n",
        "Present value based on future value: PV = FVe^(-rt)\n",
        "\n",
        "Call option: Financial contract giving the right but not the obligation to buy an asset at a predetermined price.\n",
        "Put Option: Right but not obligation to sell an asset at a predetermined price.\n",
        "\n",
        "A hedge is a financial strategy that reduces the risk of loss. It can involve buying or selling assets, or entering into contracts to buy or sell commodities at a set price.\n",
        "\n",
        "Exercise types:\n",
        "1. European: Only exercise at maturity\n",
        "2. American:\n",
        "3. Bermudian:\n",
        "\n",
        "Payoff types:\n",
        "1. Vanilla:\n",
        "2. Digital:\n",
        "3. Asian:\n",
        "\n",
        "S = underlying price\n",
        "K = strike price\n",
        "T = time to maturity"
      ],
      "metadata": {
        "id": "0coXISAVasZ7"
      }
    },
    {
      "cell_type": "code",
      "source": [],
      "metadata": {
        "id": "3tA1SpLYeul1"
      },
      "execution_count": null,
      "outputs": []
    },
    {
      "cell_type": "code",
      "source": [
        "#Black Sholes Merton Model\n",
        "'''Variables:\n",
        "S: initial stock price\n",
        "K: Strike price\n",
        "T: time to maturity\n",
        "'''"
      ],
      "metadata": {
        "id": "9fOtDjY5d2P4"
      },
      "execution_count": null,
      "outputs": []
    },
    {
      "cell_type": "code",
      "source": [
        "import numpy as np\n",
        "#import scipy.stats as sp\n",
        "import pandas as pd\n",
        "from scipy.stats import norm\n",
        "from google.colab import files"
      ],
      "metadata": {
        "id": "KpAvLKzGja4D"
      },
      "execution_count": null,
      "outputs": []
    },
    {
      "cell_type": "code",
      "source": [
        "def Black_call(S0,K,T,r,sigma,q):\n",
        "  d1 = (np.log(S0/K)+(r-q+0.5*sigma**2)*T)/(sigma*np.sqrt(T))\n",
        "  d2 = (np.log(S0/K)+(r-q-0.5*sigma**2)*T)/(sigma*np.sqrt(T)) #only one minus sign difference.\n",
        "  call_price = S0*np.exp(-q*T)*norm.cdf(d1) - K*np.exp(-r*T)* norm.cdf(d2)\n",
        "  return call_price"
      ],
      "metadata": {
        "id": "6GiKEJqKjs7K"
      },
      "execution_count": null,
      "outputs": []
    },
    {
      "cell_type": "code",
      "source": [
        "def Black_put(S0,K,T,r,sigma,q):\n",
        "  d1 = (np.log(S0/K)+(r-q+0.5*sigma**2)*T)/(sigma*np.sqrt(T))\n",
        "  d2 = (np.log(S0/K)+(r-q-0.5*sigma**2)*T)/(sigma*np.sqrt(T)) #only one minus sign difference.\n",
        "  put_price = K*np.exp(-r*T)* norm.cdf(d2)- S0*np.exp(-q*T)*norm.cdf(d1)\n",
        "  return call_price"
      ],
      "metadata": {
        "id": "07uMt6cQknc9"
      },
      "execution_count": null,
      "outputs": []
    },
    {
      "cell_type": "code",
      "source": [
        "S = 100 #stock price\n",
        "K = 105 #strike price\n",
        "T = 0.5 #time to maturity\n",
        "r = 0.05 #risk-free rate\n",
        "sigma = 0.1 #implied volatility\n",
        "q = 0.02 #continuous dividend yield\n",
        "\n",
        "call_price = Black_Scholes_call(S, K, T, r, sigma, q)\n",
        "put_price = Black_Scholes_put(S, K, T, r, sigma, q)\n",
        "\n",
        "print(\"Call price: \", call_price)\n",
        "print(\"Put price: \", put_price)"
      ],
      "metadata": {
        "id": "gwXzqPuLm1nI"
      },
      "execution_count": null,
      "outputs": []
    },
    {
      "cell_type": "code",
      "source": [
        "def BS_call_synthetic_data(S0, N):\n",
        "\n",
        "  S = np.full(N, S0) #Stock Price S\n",
        "  K = np.random.uniform(90, 110, N) #Strike price range\n",
        "  q = np.random.uniform(0.02, 0.06, N) #dividend yield range (annual)\n",
        "  r = np.random.uniform(0.01, 0.06, N) #risk free rate range (annual)\n",
        "  sigma = np.random.uniform(0.15, 0.3, N) #implied volatility range\n",
        "  T = np.random.uniform(0.25, 2, N) #time to maturity range[years]\n",
        "\n",
        "  d1 = (np.log(S/K) + (r - q + 0.5*sigma**2)*T) / (sigma*np.sqrt(T))\n",
        "  d2 = d1 - sigma*np.sqrt(T)\n",
        "\n",
        "  call_price = S*np.exp(-q*T)*norm.cdf(d1) - K*np.exp(-r*T)*norm.cdf(d2) #calculate call price\n",
        "\n",
        "  df = pd.DataFrame({\n",
        "      'Stock Price (S)': S,\n",
        "      'Strike Price (K)': K,\n",
        "      'Dividend Yield (q)': q,\n",
        "      'Risk-Free Rate (r)': r,\n",
        "      'Implied Volatility (v)': v,\n",
        "      'Time to Expiry (T)': T,\n",
        "      'Call Option Price': call_price\n",
        "  })\n",
        "\n",
        "  return df"
      ],
      "metadata": {
        "id": "qJAyYCEym3Xz"
      },
      "execution_count": null,
      "outputs": []
    },
    {
      "cell_type": "code",
      "source": [
        "S0 = 100\n",
        "N = 1000\n",
        "\n",
        "df = BS_call_synthetic_data(S0, N)\n",
        "df.to_csv(\"BSM_call_sample.csv\", index=False)\n",
        "from google.colab import files\n",
        "files.download(\"BSM_call_sample.csv\")"
      ],
      "metadata": {
        "id": "aRzRBj-9m_h8"
      },
      "execution_count": null,
      "outputs": []
    }
  ]
}